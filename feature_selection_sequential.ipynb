{
 "cells": [
  {
   "cell_type": "markdown",
   "metadata": {},
   "source": [
    "# Feature selection"
   ]
  },
  {
   "cell_type": "markdown",
   "metadata": {},
   "source": [
    "In this example we will see how to **select features** through **sequential selection**.\n",
    "\n",
    "As a toy example, we will use data from 'Titanic: Machine Learning for Disaster', one of the most popular Kaggle competitions. However, we will not use the original data set. We will use a modified data set, which results from a [Kaggle kernel](https://www.kaggle.com/pmarcelino/data-analysis-and-feature-extraction-with-python) that I did. \n",
    "\n",
    "[Here](https://github.com/pmarcelino/blog/data/titanic_modified.csv) you can access to the data set used in this exercise."
   ]
  },
  {
   "cell_type": "markdown",
   "metadata": {},
   "source": [
    "---"
   ]
  },
  {
   "cell_type": "code",
   "execution_count": 1,
   "metadata": {
    "collapsed": true
   },
   "outputs": [],
   "source": [
    "import pandas as pd\n",
    "import numpy as np\n",
    "import matplotlib.pyplot as plt\n",
    "from mlxtend.feature_selection import SequentialFeatureSelector as SFS\n",
    "\n",
    "%matplotlib inline"
   ]
  },
  {
   "cell_type": "markdown",
   "metadata": {},
   "source": [
    "# Load data"
   ]
  },
  {
   "cell_type": "markdown",
   "metadata": {},
   "source": [
    "Let's load the data set."
   ]
  },
  {
   "cell_type": "code",
   "execution_count": 2,
   "metadata": {},
   "outputs": [
    {
     "data": {
      "text/html": [
       "<div>\n",
       "<style>\n",
       "    .dataframe thead tr:only-child th {\n",
       "        text-align: right;\n",
       "    }\n",
       "\n",
       "    .dataframe thead th {\n",
       "        text-align: left;\n",
       "    }\n",
       "\n",
       "    .dataframe tbody tr th {\n",
       "        vertical-align: top;\n",
       "    }\n",
       "</style>\n",
       "<table border=\"1\" class=\"dataframe\">\n",
       "  <thead>\n",
       "    <tr style=\"text-align: right;\">\n",
       "      <th></th>\n",
       "      <th>Survived</th>\n",
       "      <th>Fare</th>\n",
       "      <th>FamilySize</th>\n",
       "      <th>Imputed</th>\n",
       "      <th>Pclass_2</th>\n",
       "      <th>Pclass_3</th>\n",
       "      <th>Sex_male</th>\n",
       "      <th>Age_Child</th>\n",
       "      <th>Age_Elder</th>\n",
       "      <th>Embarked_Q</th>\n",
       "      <th>Embarked_S</th>\n",
       "      <th>Title_Miss</th>\n",
       "      <th>Title_Mr</th>\n",
       "      <th>Title_Mrs</th>\n",
       "      <th>Title_Other</th>\n",
       "    </tr>\n",
       "  </thead>\n",
       "  <tbody>\n",
       "    <tr>\n",
       "      <th>0</th>\n",
       "      <td>0</td>\n",
       "      <td>7.2500</td>\n",
       "      <td>1</td>\n",
       "      <td>0</td>\n",
       "      <td>0</td>\n",
       "      <td>1</td>\n",
       "      <td>1</td>\n",
       "      <td>0</td>\n",
       "      <td>0</td>\n",
       "      <td>0</td>\n",
       "      <td>1</td>\n",
       "      <td>0</td>\n",
       "      <td>1</td>\n",
       "      <td>0</td>\n",
       "      <td>0</td>\n",
       "    </tr>\n",
       "    <tr>\n",
       "      <th>1</th>\n",
       "      <td>1</td>\n",
       "      <td>71.2833</td>\n",
       "      <td>1</td>\n",
       "      <td>0</td>\n",
       "      <td>0</td>\n",
       "      <td>0</td>\n",
       "      <td>0</td>\n",
       "      <td>0</td>\n",
       "      <td>0</td>\n",
       "      <td>0</td>\n",
       "      <td>0</td>\n",
       "      <td>0</td>\n",
       "      <td>0</td>\n",
       "      <td>1</td>\n",
       "      <td>0</td>\n",
       "    </tr>\n",
       "    <tr>\n",
       "      <th>2</th>\n",
       "      <td>1</td>\n",
       "      <td>7.9250</td>\n",
       "      <td>0</td>\n",
       "      <td>0</td>\n",
       "      <td>0</td>\n",
       "      <td>1</td>\n",
       "      <td>0</td>\n",
       "      <td>0</td>\n",
       "      <td>0</td>\n",
       "      <td>0</td>\n",
       "      <td>1</td>\n",
       "      <td>1</td>\n",
       "      <td>0</td>\n",
       "      <td>0</td>\n",
       "      <td>0</td>\n",
       "    </tr>\n",
       "    <tr>\n",
       "      <th>3</th>\n",
       "      <td>1</td>\n",
       "      <td>53.1000</td>\n",
       "      <td>1</td>\n",
       "      <td>0</td>\n",
       "      <td>0</td>\n",
       "      <td>0</td>\n",
       "      <td>0</td>\n",
       "      <td>0</td>\n",
       "      <td>0</td>\n",
       "      <td>0</td>\n",
       "      <td>1</td>\n",
       "      <td>0</td>\n",
       "      <td>0</td>\n",
       "      <td>1</td>\n",
       "      <td>0</td>\n",
       "    </tr>\n",
       "    <tr>\n",
       "      <th>4</th>\n",
       "      <td>0</td>\n",
       "      <td>8.0500</td>\n",
       "      <td>0</td>\n",
       "      <td>0</td>\n",
       "      <td>0</td>\n",
       "      <td>1</td>\n",
       "      <td>1</td>\n",
       "      <td>0</td>\n",
       "      <td>0</td>\n",
       "      <td>0</td>\n",
       "      <td>1</td>\n",
       "      <td>0</td>\n",
       "      <td>1</td>\n",
       "      <td>0</td>\n",
       "      <td>0</td>\n",
       "    </tr>\n",
       "  </tbody>\n",
       "</table>\n",
       "</div>"
      ],
      "text/plain": [
       "   Survived     Fare  FamilySize  Imputed  Pclass_2  Pclass_3  Sex_male  \\\n",
       "0         0   7.2500           1        0         0         1         1   \n",
       "1         1  71.2833           1        0         0         0         0   \n",
       "2         1   7.9250           0        0         0         1         0   \n",
       "3         1  53.1000           1        0         0         0         0   \n",
       "4         0   8.0500           0        0         0         1         1   \n",
       "\n",
       "   Age_Child  Age_Elder  Embarked_Q  Embarked_S  Title_Miss  Title_Mr  \\\n",
       "0          0          0           0           1           0         1   \n",
       "1          0          0           0           0           0         0   \n",
       "2          0          0           0           1           1         0   \n",
       "3          0          0           0           1           0         0   \n",
       "4          0          0           0           1           0         1   \n",
       "\n",
       "   Title_Mrs  Title_Other  \n",
       "0          0            0  \n",
       "1          1            0  \n",
       "2          0            0  \n",
       "3          1            0  \n",
       "4          0            0  "
      ]
     },
     "execution_count": 2,
     "metadata": {},
     "output_type": "execute_result"
    }
   ],
   "source": [
    "df = pd.read_csv('data/titanic_modified.csv', index_col=0)\n",
    "df.head()"
   ]
  },
  {
   "cell_type": "markdown",
   "metadata": {},
   "source": [
    "As I mentioned, this data set results from a [kernel](https://www.kaggle.com/pmarcelino/data-analysis-and-feature-extraction-with-python) that I already did for the Titanic competition. I'll summarize each of the features to give you some context:\n",
    "\n",
    "* **Survived**. Target variable. It's 1 if the passenger survived and 0 if it didn't.\n",
    "* **Fare**. Passenger fare. It keeps the same properties as the original feature.\n",
    "* **FamilySize**. It's the sum of the original features SipSp and Parch. SipSp refers to the # of siblings / spouses aboard the Titanic. Parch refers to the # of parents / children aboard the Titanic.\n",
    "* **Imputed**. Identifies instances where some missing data imputation was made.\n",
    "* **Pclass**. Ticket class. The feature was [encoded](http://scikit-learn.org/stable/modules/preprocessing.html#preprocessing-categorical-features), so we just have the features corresponding to the second and third class. The one corresponding to the first class was deleted to avoid the [dummy trap](http://www.algosome.com/articles/dummy-variable-trap-regression.html).\n",
    "* **Sex**. It was also encoded. It's 1 if the instance corresponds to a male, and 0 if it corresponds to a female.\n",
    "* **Age**. Encoded to the following classes: Children, Adult, and Elder. It's an Adult if Age_Child = 0 and Age_Elder = 0.\n",
    "* **Embarked**. Port of embarkation. Originally, we had three possible ports: C = Cherbourg, Q = Queenstown, S = Southampton.\n",
    "* **Title**. Results from the name of the passenger. Guess what? It's also an encoded feature."
   ]
  },
  {
   "cell_type": "markdown",
   "metadata": {},
   "source": [
    "# Train and test data sets"
   ]
  },
  {
   "cell_type": "markdown",
   "metadata": {},
   "source": [
    "In feature selection, our goal is to distinguish features that are useful for prediction from features that just add noise to the prediction model.\n",
    "\n",
    "To test the model's performance on unseen data, we need a train and a test data set."
   ]
  },
  {
   "cell_type": "code",
   "execution_count": 3,
   "metadata": {
    "collapsed": true
   },
   "outputs": [],
   "source": [
    "# Create train and test set\n",
    "from sklearn.model_selection import train_test_split\n",
    "\n",
    "X = df.drop('Survived', axis=1)  # Keep all features except 'Survived'\n",
    "y = df['Survived']  # Just keep 'Survived'\n",
    "\n",
    "X_train, X_test, y_train, y_test = train_test_split(X, y, test_size=0.20, random_state=7)"
   ]
  },
  {
   "cell_type": "markdown",
   "metadata": {},
   "source": [
    "# Feature selection"
   ]
  },
  {
   "cell_type": "markdown",
   "metadata": {},
   "source": [
    "The solution we propose uses [mlxtend](http://rasbt.github.io/mlxtend/). Mlxtend is a Python library of useful tools for the day-to-day data science tasks. It was written by [Sebastian Raschka](https://sebastianraschka.com/), one of the data scientists that I follow.\n",
    "\n",
    "Sequential feature selection recursively removes or adds features based on the classifier performance. The recursion proceeds until we reach a feature subset of the desired size. We say that the recursion works 'backward' if we remove features, and we say that the recursion works 'forward' if we add features.\n",
    "\n",
    "For example, let's consider that we have 14 features and we want to reduce the feature subset to 10 features. Assume that we want to use sequential forward selection. In this case, we will start without features and, step by step, we will add one feature to the subset. This feature will be the one that brings the greatest increase to the classifier performance. We keep adding features until our feature subset has 10 features. \n",
    "\n",
    "Sequential backward selection works in the opposite way. We start with all features and, step by step, we remove the feature that least influences the classifier performance.\n",
    "\n",
    "In addition to the 'backward' and 'forward', mlxtend has a 'floating' option. Floating allow us to have an additional exclusion or inclusion step to remove features once they were included (or excluded). This step is conditional and only occurs if the resulting feature subset is assessed as \"better\" by the criterion function after removal (or addition) of a particular feature. Floating allow us to consider a wider range of combinations, which can provide us better results.\n",
    "\n",
    "Mlxtend offers four different ways to perform sequential feature selection:\n",
    "\n",
    "* Sequential forward selection.\n",
    "* Sequential backward selection.\n",
    "* Sequential forward floating selection.\n",
    "* Sequential backward floating selection.\n",
    "\n",
    "In this example we will test all of them."
   ]
  },
  {
   "cell_type": "code",
   "execution_count": 4,
   "metadata": {
    "collapsed": true
   },
   "outputs": [],
   "source": [
    "from sklearn.linear_model import LogisticRegression\n",
    "\n",
    "lr = LogisticRegression()\n",
    "max_features = np.shape(X_train)[1]"
   ]
  },
  {
   "cell_type": "markdown",
   "metadata": {},
   "source": [
    "* Here we define the base classifier *lr* that will be used to solve the problem. Logistic regression was chosen to make this notebook coherent with previous notebooks ([x](), [x]()).\n",
    "* *max_features* is the number of features that we want to select."
   ]
  },
  {
   "cell_type": "code",
   "execution_count": 5,
   "metadata": {},
   "outputs": [
    {
     "name": "stdout",
     "output_type": "stream",
     "text": [
      "Sequential forward selection (12 features): \n",
      "(0, 1, 2, 4, 5, 6, 7, 8, 9, 11, 12, 13)\n",
      "CV score: \n",
      "0.8385295103957077\n"
     ]
    }
   ],
   "source": [
    "# Sequential forward selection\n",
    "sfs = SFS(lr,\n",
    "          k_features = (1,max_features), # Select the best feature combination in the range 1 to max_features\n",
    "          forward = True,\n",
    "          floating = False,\n",
    "          scoring = 'accuracy',\n",
    "          cv = 10,  # Performs stratified k-fold by default.\n",
    "          n_jobs = -1)\n",
    "sfs = sfs.fit(X_train.values, y_train) # Use .values because the method can't read DataFrame data structures.\n",
    "\n",
    "print('Sequential forward selection (%i features): ' % np.size(sfs.k_feature_idx_))\n",
    "print(sfs.k_feature_idx_)\n",
    "print('CV score: ')\n",
    "print(sfs.k_score_)"
   ]
  },
  {
   "cell_type": "markdown",
   "metadata": {},
   "source": [
    "* We create a sequential feature selection structure *SFS* that uses *lr* as an estimator, has *7 features*, does *forward* selection, *excludes* the conditional floating option, uses *accuracy* as the performance metrics, performs *cross-validation*, and uses all CPUs to evaluate the different subsests (n_jobs = -1).\n",
    "* We perform feature selection and learn the model using the training data.\n",
    "* We print the selected features and the performance score."
   ]
  },
  {
   "cell_type": "code",
   "execution_count": 6,
   "metadata": {},
   "outputs": [
    {
     "name": "stdout",
     "output_type": "stream",
     "text": [
      "Sequential backward selection (4 features): \n",
      "(0, 1, 11, 13)\n",
      "CV score: \n",
      "0.8455130784708249\n"
     ]
    }
   ],
   "source": [
    "# Sequential backward selection\n",
    "sbs = SFS(lr, \n",
    "          k_features = (1,max_features),\n",
    "          forward = False, \n",
    "          floating = False, \n",
    "          scoring = 'accuracy',\n",
    "          cv = 10, \n",
    "          n_jobs = -1)\n",
    "sbs = sbs.fit(X_train.values, y_train)\n",
    "\n",
    "print('Sequential backward selection (%i features): ' % np.size(sbs.k_feature_idx_))\n",
    "print(sbs.k_feature_idx_)\n",
    "print('CV score: ')\n",
    "print(sbs.k_score_)"
   ]
  },
  {
   "cell_type": "markdown",
   "metadata": {},
   "source": [
    "* In this case we perform a backward selection, so we define that *forward = False*. Everything else remains equal."
   ]
  },
  {
   "cell_type": "code",
   "execution_count": 7,
   "metadata": {},
   "outputs": [
    {
     "name": "stdout",
     "output_type": "stream",
     "text": [
      "Sequential forward floating selection (10 features): \n",
      "(1, 2, 3, 4, 6, 8, 9, 11, 12, 13)\n",
      "CV score: \n",
      "0.8483501006036217\n"
     ]
    }
   ],
   "source": [
    "# Sequential forward floating selection\n",
    "sffs = SFS(lr, \n",
    "           k_features = (1,max_features), \n",
    "           forward = True, \n",
    "           floating = True, \n",
    "           scoring = 'accuracy', \n",
    "           cv = 10, \n",
    "           n_jobs = -1)\n",
    "sffs = sffs.fit(X_train.values, y_train)\n",
    "\n",
    "print('Sequential forward floating selection (%i features): ' % np.size(sffs.k_feature_idx_))\n",
    "print(sffs.k_feature_idx_)\n",
    "print('CV score: ')\n",
    "print(sffs.k_score_)"
   ]
  },
  {
   "cell_type": "markdown",
   "metadata": {},
   "source": [
    "* The main difference here is that we activate the *floating* option."
   ]
  },
  {
   "cell_type": "code",
   "execution_count": 8,
   "metadata": {},
   "outputs": [
    {
     "name": "stdout",
     "output_type": "stream",
     "text": [
      "Sequential backward floating selection (10 features): \n",
      "(1, 2, 3, 4, 6, 8, 9, 11, 12, 13)\n",
      "CV score: \n",
      "0.8483501006036217\n"
     ]
    }
   ],
   "source": [
    "# Sequential backward floating selection\n",
    "sbfs = SFS(lr, \n",
    "           k_features = (1,max_features), \n",
    "           forward = False,\n",
    "           floating = True,\n",
    "           scoring = 'accuracy', \n",
    "           cv = 10, \n",
    "           n_jobs = -1)\n",
    "sbfs = sbfs.fit(X_train.values, y_train)\n",
    "\n",
    "print('Sequential backward floating selection (%i features): ' % np.size(sbfs.k_feature_idx_))\n",
    "print(sbfs.k_feature_idx_)\n",
    "print('CV score: ')\n",
    "print(sbfs.k_score_)"
   ]
  },
  {
   "cell_type": "markdown",
   "metadata": {},
   "source": [
    "As we can see, the classifier performs better when we use backward or forward floating selection.\n",
    "\n",
    "Let's visualize the results of the best performing solution in DataFrames and plots."
   ]
  },
  {
   "cell_type": "markdown",
   "metadata": {},
   "source": [
    "### Visualize results with DataFrames"
   ]
  },
  {
   "cell_type": "code",
   "execution_count": 9,
   "metadata": {},
   "outputs": [
    {
     "data": {
      "text/html": [
       "<div>\n",
       "<style>\n",
       "    .dataframe thead tr:only-child th {\n",
       "        text-align: right;\n",
       "    }\n",
       "\n",
       "    .dataframe thead th {\n",
       "        text-align: left;\n",
       "    }\n",
       "\n",
       "    .dataframe tbody tr th {\n",
       "        vertical-align: top;\n",
       "    }\n",
       "</style>\n",
       "<table border=\"1\" class=\"dataframe\">\n",
       "  <thead>\n",
       "    <tr style=\"text-align: right;\">\n",
       "      <th></th>\n",
       "      <th>avg_score</th>\n",
       "      <th>ci_bound</th>\n",
       "      <th>cv_scores</th>\n",
       "      <th>feature_idx</th>\n",
       "      <th>std_dev</th>\n",
       "      <th>std_err</th>\n",
       "    </tr>\n",
       "  </thead>\n",
       "  <tbody>\n",
       "    <tr>\n",
       "      <th>1</th>\n",
       "      <td>0.801928</td>\n",
       "      <td>0.0347337</td>\n",
       "      <td>[0.7916666666666666, 0.7361111111111112, 0.875...</td>\n",
       "      <td>(5,)</td>\n",
       "      <td>0.046766</td>\n",
       "      <td>0.0155887</td>\n",
       "    </tr>\n",
       "    <tr>\n",
       "      <th>2</th>\n",
       "      <td>0.806153</td>\n",
       "      <td>0.0328688</td>\n",
       "      <td>[0.7916666666666666, 0.7361111111111112, 0.875...</td>\n",
       "      <td>(1, 5)</td>\n",
       "      <td>0.0442551</td>\n",
       "      <td>0.0147517</td>\n",
       "    </tr>\n",
       "    <tr>\n",
       "      <th>3</th>\n",
       "      <td>0.810359</td>\n",
       "      <td>0.0313243</td>\n",
       "      <td>[0.7777777777777778, 0.75, 0.8888888888888888,...</td>\n",
       "      <td>(1, 4, 5)</td>\n",
       "      <td>0.0421755</td>\n",
       "      <td>0.0140585</td>\n",
       "    </tr>\n",
       "    <tr>\n",
       "      <th>4</th>\n",
       "      <td>0.82865</td>\n",
       "      <td>0.03601</td>\n",
       "      <td>[0.7777777777777778, 0.7777777777777778, 0.888...</td>\n",
       "      <td>(1, 4, 5, 6)</td>\n",
       "      <td>0.0484845</td>\n",
       "      <td>0.0161615</td>\n",
       "    </tr>\n",
       "    <tr>\n",
       "      <th>5</th>\n",
       "      <td>0.831486</td>\n",
       "      <td>0.039996</td>\n",
       "      <td>[0.7638888888888888, 0.7777777777777778, 0.888...</td>\n",
       "      <td>(1, 4, 5, 6, 12)</td>\n",
       "      <td>0.0538512</td>\n",
       "      <td>0.0179504</td>\n",
       "    </tr>\n",
       "    <tr>\n",
       "      <th>6</th>\n",
       "      <td>0.832875</td>\n",
       "      <td>0.038803</td>\n",
       "      <td>[0.7777777777777778, 0.7777777777777778, 0.888...</td>\n",
       "      <td>(1, 2, 4, 5, 6, 12)</td>\n",
       "      <td>0.052245</td>\n",
       "      <td>0.017415</td>\n",
       "    </tr>\n",
       "    <tr>\n",
       "      <th>7</th>\n",
       "      <td>0.832915</td>\n",
       "      <td>0.0392131</td>\n",
       "      <td>[0.7777777777777778, 0.7638888888888888, 0.888...</td>\n",
       "      <td>(1, 2, 4, 5, 6, 8, 12)</td>\n",
       "      <td>0.0527972</td>\n",
       "      <td>0.0175991</td>\n",
       "    </tr>\n",
       "    <tr>\n",
       "      <th>8</th>\n",
       "      <td>0.832915</td>\n",
       "      <td>0.0392131</td>\n",
       "      <td>[0.7777777777777778, 0.7638888888888888, 0.888...</td>\n",
       "      <td>(1, 2, 4, 5, 6, 7, 8, 12)</td>\n",
       "      <td>0.0527972</td>\n",
       "      <td>0.0175991</td>\n",
       "    </tr>\n",
       "    <tr>\n",
       "      <th>9</th>\n",
       "      <td>0.832915</td>\n",
       "      <td>0.0397522</td>\n",
       "      <td>[0.7916666666666666, 0.75, 0.8888888888888888,...</td>\n",
       "      <td>(1, 2, 4, 5, 6, 7, 8, 9, 12)</td>\n",
       "      <td>0.0535229</td>\n",
       "      <td>0.017841</td>\n",
       "    </tr>\n",
       "    <tr>\n",
       "      <th>10</th>\n",
       "      <td>0.84835</td>\n",
       "      <td>0.0321055</td>\n",
       "      <td>[0.8194444444444444, 0.7916666666666666, 0.888...</td>\n",
       "      <td>(1, 2, 3, 4, 6, 8, 9, 11, 12, 13)</td>\n",
       "      <td>0.0432273</td>\n",
       "      <td>0.0144091</td>\n",
       "    </tr>\n",
       "    <tr>\n",
       "      <th>11</th>\n",
       "      <td>0.848331</td>\n",
       "      <td>0.03183</td>\n",
       "      <td>[0.8333333333333334, 0.7916666666666666, 0.888...</td>\n",
       "      <td>(1, 2, 3, 4, 6, 7, 8, 9, 11, 12, 13)</td>\n",
       "      <td>0.0428564</td>\n",
       "      <td>0.0142855</td>\n",
       "    </tr>\n",
       "    <tr>\n",
       "      <th>12</th>\n",
       "      <td>0.845533</td>\n",
       "      <td>0.0360445</td>\n",
       "      <td>[0.8194444444444444, 0.7916666666666666, 0.888...</td>\n",
       "      <td>(0, 1, 2, 3, 4, 6, 7, 8, 9, 11, 12, 13)</td>\n",
       "      <td>0.0485308</td>\n",
       "      <td>0.0161769</td>\n",
       "    </tr>\n",
       "    <tr>\n",
       "      <th>13</th>\n",
       "      <td>0.837081</td>\n",
       "      <td>0.0373458</td>\n",
       "      <td>[0.7916666666666666, 0.7916666666666666, 0.888...</td>\n",
       "      <td>(0, 1, 2, 3, 5, 6, 7, 8, 9, 10, 11, 12, 13)</td>\n",
       "      <td>0.0502829</td>\n",
       "      <td>0.016761</td>\n",
       "    </tr>\n",
       "    <tr>\n",
       "      <th>14</th>\n",
       "      <td>0.831447</td>\n",
       "      <td>0.0403506</td>\n",
       "      <td>[0.7916666666666666, 0.7638888888888888, 0.902...</td>\n",
       "      <td>(0, 1, 2, 3, 4, 5, 6, 7, 8, 9, 10, 11, 12, 13)</td>\n",
       "      <td>0.0543287</td>\n",
       "      <td>0.0181096</td>\n",
       "    </tr>\n",
       "  </tbody>\n",
       "</table>\n",
       "</div>"
      ],
      "text/plain": [
       "   avg_score   ci_bound                                          cv_scores  \\\n",
       "1   0.801928  0.0347337  [0.7916666666666666, 0.7361111111111112, 0.875...   \n",
       "2   0.806153  0.0328688  [0.7916666666666666, 0.7361111111111112, 0.875...   \n",
       "3   0.810359  0.0313243  [0.7777777777777778, 0.75, 0.8888888888888888,...   \n",
       "4    0.82865    0.03601  [0.7777777777777778, 0.7777777777777778, 0.888...   \n",
       "5   0.831486   0.039996  [0.7638888888888888, 0.7777777777777778, 0.888...   \n",
       "6   0.832875   0.038803  [0.7777777777777778, 0.7777777777777778, 0.888...   \n",
       "7   0.832915  0.0392131  [0.7777777777777778, 0.7638888888888888, 0.888...   \n",
       "8   0.832915  0.0392131  [0.7777777777777778, 0.7638888888888888, 0.888...   \n",
       "9   0.832915  0.0397522  [0.7916666666666666, 0.75, 0.8888888888888888,...   \n",
       "10   0.84835  0.0321055  [0.8194444444444444, 0.7916666666666666, 0.888...   \n",
       "11  0.848331    0.03183  [0.8333333333333334, 0.7916666666666666, 0.888...   \n",
       "12  0.845533  0.0360445  [0.8194444444444444, 0.7916666666666666, 0.888...   \n",
       "13  0.837081  0.0373458  [0.7916666666666666, 0.7916666666666666, 0.888...   \n",
       "14  0.831447  0.0403506  [0.7916666666666666, 0.7638888888888888, 0.902...   \n",
       "\n",
       "                                       feature_idx    std_dev    std_err  \n",
       "1                                             (5,)   0.046766  0.0155887  \n",
       "2                                           (1, 5)  0.0442551  0.0147517  \n",
       "3                                        (1, 4, 5)  0.0421755  0.0140585  \n",
       "4                                     (1, 4, 5, 6)  0.0484845  0.0161615  \n",
       "5                                 (1, 4, 5, 6, 12)  0.0538512  0.0179504  \n",
       "6                              (1, 2, 4, 5, 6, 12)   0.052245   0.017415  \n",
       "7                           (1, 2, 4, 5, 6, 8, 12)  0.0527972  0.0175991  \n",
       "8                        (1, 2, 4, 5, 6, 7, 8, 12)  0.0527972  0.0175991  \n",
       "9                     (1, 2, 4, 5, 6, 7, 8, 9, 12)  0.0535229   0.017841  \n",
       "10               (1, 2, 3, 4, 6, 8, 9, 11, 12, 13)  0.0432273  0.0144091  \n",
       "11            (1, 2, 3, 4, 6, 7, 8, 9, 11, 12, 13)  0.0428564  0.0142855  \n",
       "12         (0, 1, 2, 3, 4, 6, 7, 8, 9, 11, 12, 13)  0.0485308  0.0161769  \n",
       "13     (0, 1, 2, 3, 5, 6, 7, 8, 9, 10, 11, 12, 13)  0.0502829   0.016761  \n",
       "14  (0, 1, 2, 3, 4, 5, 6, 7, 8, 9, 10, 11, 12, 13)  0.0543287  0.0181096  "
      ]
     },
     "execution_count": 9,
     "metadata": {},
     "output_type": "execute_result"
    }
   ],
   "source": [
    "# Sequential forward floating selection (dataframe)\n",
    "pd.DataFrame.from_dict(sffs.get_metric_dict()).T"
   ]
  },
  {
   "cell_type": "markdown",
   "metadata": {},
   "source": [
    "### Visualize results with plots"
   ]
  },
  {
   "cell_type": "code",
   "execution_count": 10,
   "metadata": {},
   "outputs": [
    {
     "data": {
      "image/png": "[encoded data removed]",
      "text/plain": [
       "<matplotlib.figure.Figure at 0x11c3558d0>"
      ]
     },
     "metadata": {},
     "output_type": "display_data"
    }
   ],
   "source": [
    "# Sequential forward floating selection (plot)\n",
    "from mlxtend.plotting import plot_sequential_feature_selection as plot_sfs\n",
    "\n",
    "fig = plot_sfs(sffs.get_metric_dict(), kind='std_dev')\n",
    "plt.ylim([0.6,1])\n",
    "plt.title('Sequential backward floating selection (w. StdDev)')\n",
    "plt.grid()\n",
    "plt.show()"
   ]
  },
  {
   "cell_type": "markdown",
   "metadata": {},
   "source": [
    "# Conclusion"
   ]
  },
  {
   "cell_type": "markdown",
   "metadata": {},
   "source": [
    "In this example we applied sequential feature selection. This technique recursively adds (or removes) features to the feature subset based on classifier's performance. \n",
    "\n",
    "The best performing cases were the ones considering the 'floating' option. This is true for both backward and forward methods. Comparing the results with other solutions ([univariate feature selection]() and [model-based selection]()), we can say that sequential feature selection is the best perfoming solution."
   ]
  },
  {
   "cell_type": "markdown",
   "metadata": {},
   "source": [
    "# Complete solution"
   ]
  },
  {
   "cell_type": "markdown",
   "metadata": {},
   "source": [
    "To conclude, we will define a complete solution that automatically chooses the best performing model."
   ]
  },
  {
   "cell_type": "code",
   "execution_count": 11,
   "metadata": {},
   "outputs": [
    {
     "name": "stdout",
     "output_type": "stream",
     "text": [
      "Sequential forward selection (12 features): \n",
      "(0, 1, 2, 4, 5, 6, 7, 8, 9, 11, 12, 13)\n",
      "CV score: \n",
      "0.8385295103957077\n",
      "Sequential backward selection (4 features): \n",
      "(0, 1, 11, 13)\n",
      "CV score: \n",
      "0.8455130784708249\n",
      "Sequential forward floating selection (10 features): \n",
      "(1, 2, 3, 4, 6, 8, 9, 11, 12, 13)\n",
      "CV score: \n",
      "0.8483501006036217\n",
      "Sequential backward floating selection (10 features): \n",
      "(1, 2, 3, 4, 6, 8, 9, 11, 12, 13)\n",
      "CV score: \n",
      "0.8483501006036217\n",
      "Best model: SequentialFeatureSelector(clone_estimator=True, cv=10,\n",
      "             estimator=LogisticRegression(C=1.0, class_weight=None, dual=False, fit_intercept=True,\n",
      "          intercept_scaling=1, max_iter=100, multi_class='ovr', n_jobs=1,\n",
      "          penalty='l2', random_state=None, solver='liblinear', tol=0.0001,\n",
      "          verbose=0, warm_start=False),\n",
      "             floating=True, forward=False, k_features=(1, 14), n_jobs=-1,\n",
      "             pre_dispatch='2*n_jobs', scoring='accuracy', verbose=0)\n"
     ]
    },
    {
     "data": {
      "image/png": "[encoded data removed]",
      "text/plain": [
       "<matplotlib.figure.Figure at 0x11c4415c0>"
      ]
     },
     "metadata": {},
     "output_type": "display_data"
    }
   ],
   "source": [
    "import pandas as pd\n",
    "import numpy as np\n",
    "import matplotlib.pyplot as plt\n",
    "from mlxtend.feature_selection import SequentialFeatureSelector as SFS\n",
    "from sklearn.linear_model import LogisticRegression\n",
    "from sklearn.model_selection import train_test_split\n",
    "%matplotlib inline\n",
    "\n",
    "# Load data\n",
    "df = pd.read_csv('data/titanic_modified.csv', index_col=0)\n",
    "df.head()\n",
    "\n",
    "# Create train and test set\n",
    "X = df.drop('Survived', axis=1)  # Keep all features except 'Survived'\n",
    "y = df['Survived']  # Just keep 'Survived'\n",
    "\n",
    "X_train, X_test, y_train, y_test = train_test_split(X, y, test_size=0.20, random_state=7)\n",
    "\n",
    "# Create classifier\n",
    "lr = LogisticRegression()\n",
    "\n",
    "# Start variables\n",
    "max_features = np.shape(X_train)[1]\n",
    "best_score = 0\n",
    "best_model = ''\n",
    "\n",
    "# Sequential forward selection\n",
    "sfs = SFS(lr,\n",
    "          k_features = (1,max_features), # Select the best feature combination in the range 1 to max_features\n",
    "          forward = True,\n",
    "          floating = False,\n",
    "          scoring = 'accuracy',\n",
    "          cv = 10,  # Performs stratified k-fold by default.\n",
    "          n_jobs = -1)\n",
    "sfs = sfs.fit(X_train.values, y_train) # Use .values because the method can't read DataFrame data structures.\n",
    "\n",
    "if sfs.k_score_ > best_score:  # To select the best model and visualize the results (DataFrame and plot)\n",
    "    best_model = sfs\n",
    "    \n",
    "print('Sequential forward selection (%i features): ' % np.size(sfs.k_feature_idx_))\n",
    "print(sfs.k_feature_idx_)\n",
    "print('CV score: ')\n",
    "print(sfs.k_score_)\n",
    "\n",
    "# Sequential backward selection\n",
    "sbs = SFS(lr, \n",
    "          k_features = (1,max_features),\n",
    "          forward = False, \n",
    "          floating = False, \n",
    "          scoring = 'accuracy',\n",
    "          cv = 10, \n",
    "          n_jobs = -1)\n",
    "sbs = sbs.fit(X_train.values, y_train)\n",
    "\n",
    "if sbs.k_score_ > best_score:\n",
    "    best_model = sbs\n",
    "\n",
    "print('Sequential backward selection (%i features): ' % np.size(sbs.k_feature_idx_))\n",
    "print(sbs.k_feature_idx_)\n",
    "print('CV score: ')\n",
    "print(sbs.k_score_)\n",
    "\n",
    "# Sequential forward floating selection\n",
    "sffs = SFS(lr, \n",
    "           k_features = (1,max_features), \n",
    "           forward = True, \n",
    "           floating = True, \n",
    "           scoring = 'accuracy', \n",
    "           cv = 10, \n",
    "           n_jobs = -1)\n",
    "sffs = sffs.fit(X_train.values, y_train)\n",
    "\n",
    "if sffs.k_score_ > best_score:\n",
    "    best_model = sffs\n",
    "\n",
    "print('Sequential forward floating selection (%i features): ' % np.size(sffs.k_feature_idx_))\n",
    "print(sffs.k_feature_idx_)\n",
    "print('CV score: ')\n",
    "print(sffs.k_score_)\n",
    "\n",
    "# Sequential backward floating selection\n",
    "sbfs = SFS(lr, \n",
    "           k_features = (1,max_features), \n",
    "           forward = False,\n",
    "           floating = True,\n",
    "           scoring = 'accuracy', \n",
    "           cv = 10, \n",
    "           n_jobs = -1)\n",
    "sbfs = sbfs.fit(X_train.values, y_train)\n",
    "\n",
    "if sbfs.k_score_ > best_score:\n",
    "    best_model = sbfs\n",
    "\n",
    "print('Sequential backward floating selection (%i features): ' % np.size(sbfs.k_feature_idx_))\n",
    "print(sbfs.k_feature_idx_)\n",
    "print('CV score: ')\n",
    "print(sbfs.k_score_)\n",
    "\n",
    "# Visualize results\n",
    "print('Best model: %s' % best_model)\n",
    "## Sequential forward floating selection (dataframe)\n",
    "pd.DataFrame.from_dict(best_model.get_metric_dict()).T\n",
    "\n",
    "## Sequential forward floating selection (plot)\n",
    "from mlxtend.plotting import plot_sequential_feature_selection as plot_sfs\n",
    "\n",
    "fig = plot_sfs(best_model.get_metric_dict(), kind='std_dev')\n",
    "plt.ylim([0.6,1])\n",
    "plt.grid()\n",
    "plt.show()"
   ]
  }
 ],
 "metadata": {
  "kernelspec": {
   "display_name": "Python 3",
   "language": "python",
   "name": "python3"
  },
  "language_info": {
   "codemirror_mode": {
    "name": "ipython",
    "version": 3
   },
   "file_extension": ".py",
   "mimetype": "text/x-python",
   "name": "python",
   "nbconvert_exporter": "python",
   "pygments_lexer": "ipython3",
   "version": "3.6.2"
  }
 },
 "nbformat": 4,
 "nbformat_minor": 2
}