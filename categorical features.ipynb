{
  "nbformat": 4,
  "nbformat_minor": 0,
  "metadata": {
    "colab": {
      "name": "Categorical features in machine learning.ipynb",
      "version": "0.3.2",
      "provenance": [],
      "collapsed_sections": [],
      "include_colab_link": true
    },
    "kernelspec": {
      "name": "python3",
      "display_name": "Python 3"
    }
  },
  "cells": [
    {
      "cell_type": "markdown",
      "metadata": {
        "id": "view-in-github",
        "colab_type": "text"
      },
      "source": [
        "[View in Colaboratory](https://colab.research.google.com/github/mamonteiro-brg/ML-Tips-and-Tricks/blob/master/categorical%20features.ipynb)"
      ]
    },
    {
      "metadata": {
        "id": "B6-9bWZ8QNBp",
        "colab_type": "text"
      },
      "cell_type": "markdown",
      "source": [
        "Categorical features in machine learning\n",
        "\n",
        "\n",
        "\n",
        "Important concepts that you must know before all\n",
        "\n",
        "         What are categorical variables\n",
        "         \n",
        "         How they influence your final results\n",
        "         "
      ]
    },
    {
      "metadata": {
        "id": "rjDXmZuSSAzt",
        "colab_type": "code",
        "colab": {}
      },
      "cell_type": "code",
      "source": [
        "import pandas as pd\n",
        "# names of columns, as per description\n",
        "cols_names = ['Class', 'age', 'menopause', 'tumor-size', \n",
        "              'inv-nodes', 'node-caps', 'deg-malig', 'breast', \n",
        "              'breast-quad', 'irradiat']\n",
        "# read the data\n",
        "df = (pd.read_csv('breast-cancer.data', \n",
        "                 header=None, names=cols_names)\n",
        "        .replace({'?': 'unknown'}))  # NaN are represented by '?'"
      ],
      "execution_count": 0,
      "outputs": []
    },
    {
      "metadata": {
        "id": "7NsLREyPRe3h",
        "colab_type": "code",
        "colab": {}
      },
      "cell_type": "code",
      "source": [
        "from sklearn.model_selection import train_test_split\n",
        "X = df.drop(columns='Class')\n",
        "y = df['Class'].copy()\n",
        "X_train, X_test, y_train, y_test = train_test_split(X, y, test_size=0.5, random_state=42)"
      ],
      "execution_count": 0,
      "outputs": []
    },
    {
      "metadata": {
        "id": "72KeBldURe6x",
        "colab_type": "code",
        "colab": {}
      },
      "cell_type": "code",
      "source": [
        ""
      ],
      "execution_count": 0,
      "outputs": []
    },
    {
      "metadata": {
        "id": "KwJ98nTMuyve",
        "colab_type": "text"
      },
      "cell_type": "markdown",
      "source": [
        "# **One-hot encoding**"
      ]
    },
    {
      "metadata": {
        "id": "wuBGIC06vEPJ",
        "colab_type": "text"
      },
      "cell_type": "markdown",
      "source": [
        "> **Using scikit-learn**\n",
        "\n",
        "\n",
        "Feature Transformation -- OneHotEncoder (Transformer)\n",
        "One-hot encoding maps a column of label indices to a column of binary vectors, with at most a single one-value. This encoding allows algorithms which expect continuous features, such as Logistic Regression, to use categorical features. Typically, used with ft_string_indexer() to index a column first."
      ]
    },
    {
      "metadata": {
        "id": "iRH88aYEwBT3",
        "colab_type": "code",
        "colab": {}
      },
      "cell_type": "code",
      "source": [
        ""
      ],
      "execution_count": 0,
      "outputs": []
    },
    {
      "metadata": {
        "id": "SCgBL4P3v8vv",
        "colab_type": "code",
        "colab": {}
      },
      "cell_type": "code",
      "source": [
        ""
      ],
      "execution_count": 0,
      "outputs": []
    },
    {
      "metadata": {
        "id": "EhUtKXIxv5bv",
        "colab_type": "code",
        "colab": {}
      },
      "cell_type": "code",
      "source": [
        ""
      ],
      "execution_count": 0,
      "outputs": []
    },
    {
      "metadata": {
        "id": "So4DJAAoujC2",
        "colab_type": "code",
        "colab": {}
      },
      "cell_type": "code",
      "source": [
        ""
      ],
      "execution_count": 0,
      "outputs": []
    },
    {
      "metadata": {
        "id": "RqinIr1tujGW",
        "colab_type": "code",
        "colab": {}
      },
      "cell_type": "code",
      "source": [
        ""
      ],
      "execution_count": 0,
      "outputs": []
    },
    {
      "metadata": {
        "id": "j7Yzk2PyujJN",
        "colab_type": "code",
        "colab": {}
      },
      "cell_type": "code",
      "source": [
        ""
      ],
      "execution_count": 0,
      "outputs": []
    },
    {
      "metadata": {
        "id": "onqnxyxRujMO",
        "colab_type": "code",
        "colab": {}
      },
      "cell_type": "code",
      "source": [
        ""
      ],
      "execution_count": 0,
      "outputs": []
    },
    {
      "metadata": {
        "id": "yWpYJuHBujPD",
        "colab_type": "code",
        "colab": {}
      },
      "cell_type": "code",
      "source": [
        ""
      ],
      "execution_count": 0,
      "outputs": []
    },
    {
      "metadata": {
        "id": "dNEKqtrAujSW",
        "colab_type": "code",
        "colab": {}
      },
      "cell_type": "code",
      "source": [
        ""
      ],
      "execution_count": 0,
      "outputs": []
    },
    {
      "metadata": {
        "id": "Uy3dYN7BRe95",
        "colab_type": "code",
        "colab": {}
      },
      "cell_type": "code",
      "source": [
        ""
      ],
      "execution_count": 0,
      "outputs": []
    },
    {
      "metadata": {
        "id": "6CY2mG7eRfAw",
        "colab_type": "code",
        "colab": {}
      },
      "cell_type": "code",
      "source": [
        ""
      ],
      "execution_count": 0,
      "outputs": []
    },
    {
      "metadata": {
        "id": "84m-2N56RfDo",
        "colab_type": "code",
        "colab": {}
      },
      "cell_type": "code",
      "source": [
        ""
      ],
      "execution_count": 0,
      "outputs": []
    }
  ]
}